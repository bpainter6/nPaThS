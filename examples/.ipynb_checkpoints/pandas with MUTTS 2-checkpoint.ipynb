{
 "cells": [
  {
   "cell_type": "code",
   "execution_count": 37,
   "id": "4b7ac824",
   "metadata": {},
   "outputs": [],
   "source": [
    "import pandas as pd\n",
    "import copy"
   ]
  },
  {
   "cell_type": "code",
   "execution_count": 38,
   "id": "92c962a7",
   "metadata": {},
   "outputs": [
    {
     "name": "stdout",
     "output_type": "stream",
     "text": [
      "     temp  cond  radial layer\n",
      "0  312.34     4            20\n"
     ]
    }
   ],
   "source": [
    "# Center radial and center axial layer in a fuel rod\n",
    "data = {'temp':[653.23],'cond':[0.1],'radial layer':[0]}\n",
    "fuelCenterLayer = pd.DataFrame(data=data)\n",
    "\n",
    "# outer layer at the center axial layer in a fuel rod\n",
    "data = {'temp':[312.34],'cond':[4],'radial layer':[20]}\n",
    "modCenterLayer = pd.DataFrame(data=data)\n",
    "print(modCenterLayer)"
   ]
  },
  {
   "cell_type": "code",
   "execution_count": 39,
   "id": "0542a847",
   "metadata": {
    "scrolled": false
   },
   "outputs": [
    {
     "name": "stdout",
     "output_type": "stream",
     "text": [
      "     temp  cond  radial layer\n",
      "0  653.23   0.1             0\n",
      "0  312.34   4.0            20\n"
     ]
    }
   ],
   "source": [
    "centerLayer = pd.concat([fuelCenterLayer,modCenterLayer])\n",
    "print(centerLayer)"
   ]
  },
  {
   "cell_type": "code",
   "execution_count": 40,
   "id": "8511764c",
   "metadata": {},
   "outputs": [
    {
     "name": "stdout",
     "output_type": "stream",
     "text": [
      "     temp  cond  radial layer\n",
      "0  653.23   0.1             0\n",
      "0  312.34   4.0            20\n"
     ]
    }
   ],
   "source": [
    "# specify a top layer\n",
    "topLayer = copy.deepcopy(centerLayer)\n",
    "print(topLayer)"
   ]
  },
  {
   "cell_type": "code",
   "execution_count": 54,
   "id": "e2acf06d",
   "metadata": {},
   "outputs": [
    {
     "name": "stdout",
     "output_type": "stream",
     "text": [
      "     temp  cond  radial layer  axial layer       dP\n",
      "0  653.23   0.1             0           10  20000.0\n",
      "0  312.34   4.0            20           10  20000.0\n",
      "0  653.23   0.1             0           20  30000.0\n",
      "0  312.34   4.0            20           20  30000.0\n"
     ]
    }
   ],
   "source": [
    "# specify axial layers and join\n",
    "centerLayer['axial layer'] = 10\n",
    "centerLayer['dP'] = 20e+03\n",
    "topLayer['axial layer'] = 20\n",
    "topLayer['dP'] = 30e+03\n",
    "channel0 = pd.concat([centerLayer,topLayer])\n",
    "print(channel0)"
   ]
  },
  {
   "cell_type": "code",
   "execution_count": 55,
   "id": "a844f86c",
   "metadata": {},
   "outputs": [],
   "source": [
    "# specify other channels\n",
    "channel1 = copy.deepcopy(channel0)\n",
    "channel2 = copy.deepcopy(channel0)"
   ]
  },
  {
   "cell_type": "code",
   "execution_count": 56,
   "id": "7d353fc1",
   "metadata": {},
   "outputs": [
    {
     "name": "stdout",
     "output_type": "stream",
     "text": [
      "     temp  cond  radial layer  axial layer       dP  channel    dP tot\n",
      "0  653.23   0.1             0           10  20000.0        0  500000.0\n",
      "0  312.34   4.0            20           10  20000.0        0  500000.0\n",
      "0  653.23   0.1             0           20  30000.0        0  500000.0\n",
      "0  312.34   4.0            20           20  30000.0        0  500000.0\n",
      "0  653.23   0.1             0           10  20000.0        1  600000.0\n",
      "0  312.34   4.0            20           10  20000.0        1  600000.0\n",
      "0  653.23   0.1             0           20  30000.0        1  600000.0\n",
      "0  312.34   4.0            20           20  30000.0        1  600000.0\n",
      "0  653.23   0.1             0           10  20000.0        2  400000.0\n",
      "0  312.34   4.0            20           10  20000.0        2  400000.0\n",
      "0  653.23   0.1             0           20  30000.0        2  400000.0\n",
      "0  312.34   4.0            20           20  30000.0        2  400000.0\n"
     ]
    }
   ],
   "source": [
    "# specify channel numbers and join\n",
    "channel0['channel'] = 0\n",
    "channel0['dP tot']  = 500e+03\n",
    "channel1['channel'] = 1\n",
    "channel1['dP tot']  = 600e+03\n",
    "channel2['channel'] = 2\n",
    "channel2['dP tot']  = 400e+03\n",
    "core = pd.concat([channel0,channel1,channel2])\n",
    "print(core)"
   ]
  },
  {
   "cell_type": "code",
   "execution_count": 57,
   "id": "c2b774d7",
   "metadata": {},
   "outputs": [
    {
     "name": "stdout",
     "output_type": "stream",
     "text": [
      "                                    temp  cond       dP    dP tot\n",
      "channel axial layer radial layer                                 \n",
      "0       10          0             653.23   0.1  20000.0  500000.0\n",
      "                    20            312.34   4.0  20000.0  500000.0\n",
      "        20          0             653.23   0.1  30000.0  500000.0\n",
      "                    20            312.34   4.0  30000.0  500000.0\n",
      "1       10          0             653.23   0.1  20000.0  600000.0\n",
      "                    20            312.34   4.0  20000.0  600000.0\n",
      "        20          0             653.23   0.1  30000.0  600000.0\n",
      "                    20            312.34   4.0  30000.0  600000.0\n",
      "2       10          0             653.23   0.1  20000.0  400000.0\n",
      "                    20            312.34   4.0  20000.0  400000.0\n",
      "        20          0             653.23   0.1  30000.0  400000.0\n",
      "                    20            312.34   4.0  30000.0  400000.0\n"
     ]
    }
   ],
   "source": [
    "multiChannel = core.set_index(['channel','axial layer','radial layer']).sort_index()\n",
    "print(multiChannel)"
   ]
  },
  {
   "cell_type": "code",
   "execution_count": 58,
   "id": "a5cebebd",
   "metadata": {},
   "outputs": [
    {
     "data": {
      "text/plain": [
       "FrozenList(['channel', 'axial layer', 'radial layer'])"
      ]
     },
     "execution_count": 58,
     "metadata": {},
     "output_type": "execute_result"
    }
   ],
   "source": [
    "multiChannel.index.names"
   ]
  },
  {
   "cell_type": "code",
   "execution_count": 64,
   "id": "0d7fe1e3",
   "metadata": {},
   "outputs": [
    {
     "data": {
      "text/plain": [
       "channel  axial layer  radial layer\n",
       "0        10           0               653.23\n",
       "         20           0               653.23\n",
       "Name: temp, dtype: float64"
      ]
     },
     "execution_count": 64,
     "metadata": {},
     "output_type": "execute_result"
    }
   ],
   "source": [
    "# grab all the maximum axial layer temperatures (at radial layer 20) in channel 0\n",
    "multiChannel.loc[(0,slice(None),0),'temp']"
   ]
  },
  {
   "cell_type": "code",
   "execution_count": 65,
   "id": "5ab9469b",
   "metadata": {},
   "outputs": [
    {
     "data": {
      "text/plain": [
       "channel  axial layer  radial layer\n",
       "0        10           0               653.23\n",
       "1        10           0               653.23\n",
       "2        10           0               653.23\n",
       "Name: temp, dtype: float64"
      ]
     },
     "execution_count": 65,
     "metadata": {},
     "output_type": "execute_result"
    }
   ],
   "source": [
    "# grab the maximum temperatures (at raial layer 20) in the middle layer of the core (at axial layer 10)\n",
    "multiChannel.loc[(slice(None),10,0),'temp']"
   ]
  },
  {
   "cell_type": "code",
   "execution_count": 67,
   "id": "cb7e528b",
   "metadata": {},
   "outputs": [
    {
     "data": {
      "text/plain": [
       "channel  axial layer  radial layer\n",
       "0        10           0               500000.0\n",
       "                      20              500000.0\n",
       "         20           0               500000.0\n",
       "                      20              500000.0\n",
       "1        10           0               600000.0\n",
       "                      20              600000.0\n",
       "         20           0               600000.0\n",
       "                      20              600000.0\n",
       "2        10           0               400000.0\n",
       "                      20              400000.0\n",
       "         20           0               400000.0\n",
       "                      20              400000.0\n",
       "Name: dP tot, dtype: float64"
      ]
     },
     "execution_count": 67,
     "metadata": {},
     "output_type": "execute_result"
    }
   ],
   "source": [
    "# grab the total pressure drop over each chanel\n",
    "multiChannel['dP tot']"
   ]
  },
  {
   "cell_type": "code",
   "execution_count": null,
   "id": "0bf8701f",
   "metadata": {},
   "outputs": [],
   "source": []
  }
 ],
 "metadata": {
  "kernelspec": {
   "display_name": "Python 3 (ipykernel)",
   "language": "python",
   "name": "python3"
  },
  "language_info": {
   "codemirror_mode": {
    "name": "ipython",
    "version": 3
   },
   "file_extension": ".py",
   "mimetype": "text/x-python",
   "name": "python",
   "nbconvert_exporter": "python",
   "pygments_lexer": "ipython3",
   "version": "3.9.7"
  }
 },
 "nbformat": 4,
 "nbformat_minor": 5
}
