{
 "cells": [
  {
   "cell_type": "code",
   "execution_count": 1,
   "id": "efd73117",
   "metadata": {},
   "outputs": [],
   "source": [
    "import npaths\n",
    "import numpy as np\n",
    "import pickle\n",
    "from math import pi"
   ]
  },
  {
   "cell_type": "code",
   "execution_count": 2,
   "id": "6beec7e6",
   "metadata": {},
   "outputs": [],
   "source": [
    "with open('power.pkl', 'rb') as f:\n",
    "    power = pickle.load(f)"
   ]
  },
  {
   "cell_type": "code",
   "execution_count": 3,
   "id": "f624b5a5",
   "metadata": {},
   "outputs": [],
   "source": [
    "# calc assembly geom\n",
    "Dfuel  = 0.950/100\n",
    "Dguide = 1.224/100\n",
    "pitch  = 1.26/100\n",
    "nf     = 264\n",
    "ng     = 25\n",
    "Pfuel  = pi*Dfuel \n",
    "Pguide = pi*Dguide\n",
    "Afuel  = pitch**2 - pi/4*(Dfuel**2) \n",
    "Aguide = pitch**2 - pi/4*(Dguide**2)\n",
    "Af     = nf*Afuel + ng*Aguide\n",
    "Pw     = nf*Pfuel + ng*Pguide\n",
    "hyD    = 4*Af/Pw"
   ]
  },
  {
   "cell_type": "code",
   "execution_count": 4,
   "id": "20b6f937",
   "metadata": {},
   "outputs": [],
   "source": [
    "# specify power and gemetry at all locations within the core\n",
    "hyD = np.array(31*[hyD])\n",
    "Af  = np.array(31*[Af])\n",
    "dz = np.array(3*[21]+12*[20]+3*[21])/100"
   ]
  },
  {
   "cell_type": "code",
   "execution_count": 5,
   "id": "bd2499b0",
   "metadata": {
    "scrolled": true
   },
   "outputs": [],
   "source": [
    "# initialize core \n",
    "core = npaths.MultiChannel(power,dz,hyD,Af)"
   ]
  },
  {
   "cell_type": "code",
   "execution_count": 6,
   "id": "c273b833",
   "metadata": {},
   "outputs": [],
   "source": [
    "# solve with sepcific inputs\n",
    "mDot = 2325\n",
    "pIn  = 15.6e+06\n",
    "tIn  = 289.1+273.15\n",
    "core.solve(mDot,pIn,tIn)"
   ]
  }
 ],
 "metadata": {
  "kernelspec": {
   "display_name": "Python 3 (ipykernel)",
   "language": "python",
   "name": "python3"
  },
  "language_info": {
   "codemirror_mode": {
    "name": "ipython",
    "version": 3
   },
   "file_extension": ".py",
   "mimetype": "text/x-python",
   "name": "python",
   "nbconvert_exporter": "python",
   "pygments_lexer": "ipython3",
   "version": "3.9.7"
  }
 },
 "nbformat": 4,
 "nbformat_minor": 5
}
