{
 "cells": [
  {
   "cell_type": "code",
   "execution_count": 1,
   "id": "efd73117",
   "metadata": {},
   "outputs": [],
   "source": [
    "import npaths\n",
    "import numpy as np\n",
    "import pickle\n",
    "from math import pi"
   ]
  },
  {
   "cell_type": "code",
   "execution_count": 2,
   "id": "6beec7e6",
   "metadata": {},
   "outputs": [],
   "source": [
    "with open('power.pkl', 'rb') as f:\n",
    "    power = pickle.load(f)"
   ]
  },
  {
   "cell_type": "code",
   "execution_count": 3,
   "id": "10d3a2b3",
   "metadata": {},
   "outputs": [],
   "source": [
    "# calc assembly geom\n",
    "Dfuel  = 0.950/100\n",
    "Dguide = 1.224/100\n",
    "pitch  = 1.26/100\n",
    "nf     = 264\n",
    "ng     = 25\n",
    "Pfuel  = pi*Dfuel \n",
    "Pguide = pi*Dguide\n",
    "Afuel  = pitch**2 - pi/4*(Dfuel**2) \n",
    "Aguide = pitch**2 - pi/4*(Dguide**2)\n",
    "Af     = nf*Afuel + ng*Aguide\n",
    "Pw     = nf*Pfuel + ng*Pguide\n",
    "hyD    = 4*Af/Pw"
   ]
  },
  {
   "cell_type": "code",
   "execution_count": 4,
   "id": "20b6f937",
   "metadata": {},
   "outputs": [],
   "source": [
    "# specify power and gemetry at all locations within the core\n",
    "hyD = np.array(31*[hyD])\n",
    "Af  = np.array(31*[Af])\n",
    "dz  = np.array(3*[21]+12*[20]+3*[21])/100"
   ]
  },
  {
   "cell_type": "code",
   "execution_count": null,
   "id": "adfb10e7",
   "metadata": {},
   "outputs": [],
   "source": [
    "# channel data is initialized with number of channels\n",
    "channelData = npaths.channelData(31)\n",
    "channelData.add(hyD=hyD,Af=Af)"
   ]
  },
  {
   "cell_type": "code",
   "execution_count": null,
   "id": "d4edbf5b",
   "metadata": {},
   "outputs": [],
   "source": [
    "# axial data is initialized with number of axial layers\n",
    "axialData = npaths.axialData(16)\n",
    "axialData.add(dz=dz,)"
   ]
  },
  {
   "cell_type": "code",
   "execution_count": null,
   "id": "9ee3fe18",
   "metadata": {},
   "outputs": [],
   "source": [
    "rodData = npaths.RodData()\n",
    "rodData.add(name=)"
   ]
  },
  {
   "cell_type": "code",
   "execution_count": null,
   "id": "1af21f58",
   "metadata": {},
   "outputs": [],
   "source": [
    "fuelRod  = npaths.RadialData(comp=['UO2','Helium','Zircaloy'], nLayer=[3,3,3], rOut=[0.4095,0.410,0.475])\n",
    "guideRod = npaths.RadialData(comp=['Helium','Zircaloy']      , nLayer=[3,3,3], rOut=[0.547,0.612]       )"
   ]
  },
  {
   "cell_type": "code",
   "execution_count": 5,
   "id": "bd2499b0",
   "metadata": {
    "scrolled": true
   },
   "outputs": [],
   "source": [
    "# initialize core \n",
    "core = npaths.MultiChannel(power,channelData,axialData,rodData)"
   ]
  },
  {
   "cell_type": "code",
   "execution_count": 6,
   "id": "c273b833",
   "metadata": {},
   "outputs": [],
   "source": [
    "# solve with sepcific inputs\n",
    "mDot = 2325\n",
    "pIn  = 15.6e+06\n",
    "tIn  = 289.1+273.15\n",
    "core.solve(mDot,pIn,tIn)"
   ]
  },
  {
   "cell_type": "code",
   "execution_count": 7,
   "id": "e59c8bdf",
   "metadata": {},
   "outputs": [],
   "source": [
    "from matplotlib import pyplot as plt"
   ]
  },
  {
   "cell_type": "code",
   "execution_count": 14,
   "id": "4ad57c02",
   "metadata": {},
   "outputs": [],
   "source": [
    "temps = core.get('axial',(15,slice(None)),['t'],mode='array')"
   ]
  },
  {
   "cell_type": "code",
   "execution_count": 15,
   "id": "4f2f5732",
   "metadata": {},
   "outputs": [
    {
     "data": {
      "text/plain": [
       "[<matplotlib.lines.Line2D at 0x223f2142b80>]"
      ]
     },
     "execution_count": 15,
     "metadata": {},
     "output_type": "execute_result"
    },
    {
     "data": {
      "image/png": "[encoded data removed]",
      "text/plain": [
       "<Figure size 432x288 with 1 Axes>"
      ]
     },
     "metadata": {
      "needs_background": "light"
     },
     "output_type": "display_data"
    }
   ],
   "source": [
    "plt.plot(temps)"
   ]
  },
  {
   "cell_type": "code",
   "execution_count": null,
   "id": "30630f33",
   "metadata": {},
   "outputs": [],
   "source": []
  }
 ],
 "metadata": {
  "kernelspec": {
   "display_name": "Python 3 (ipykernel)",
   "language": "python",
   "name": "python3"
  },
  "language_info": {
   "codemirror_mode": {
    "name": "ipython",
    "version": 3
   },
   "file_extension": ".py",
   "mimetype": "text/x-python",
   "name": "python",
   "nbconvert_exporter": "python",
   "pygments_lexer": "ipython3",
   "version": "3.9.7"
  }
 },
 "nbformat": 4,
 "nbformat_minor": 5
}
