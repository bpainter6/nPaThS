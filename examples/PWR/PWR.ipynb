{
 "cells": [
  {
   "cell_type": "code",
   "execution_count": 1,
   "id": "efd73117",
   "metadata": {},
   "outputs": [],
   "source": [
    "import npaths\n",
    "import numpy as np\n",
    "import pickle\n",
    "from math import pi"
   ]
  },
  {
   "cell_type": "code",
   "execution_count": 2,
   "id": "6beec7e6",
   "metadata": {},
   "outputs": [],
   "source": [
    "with open('power.pkl', 'rb') as f:\n",
    "    power = pickle.load(f)"
   ]
  },
  {
   "cell_type": "code",
   "execution_count": 3,
   "id": "aba62d4c",
   "metadata": {},
   "outputs": [
    {
     "ename": "NameError",
     "evalue": "name 'pi' is not defined",
     "output_type": "error",
     "traceback": [
      "\u001b[1;31m---------------------------------------------------------------------------\u001b[0m",
      "\u001b[1;31mNameError\u001b[0m                                 Traceback (most recent call last)",
      "\u001b[1;32m~\\AppData\\Local\\Temp/ipykernel_32132/2651590592.py\u001b[0m in \u001b[0;36m<module>\u001b[1;34m\u001b[0m\n\u001b[0;32m      5\u001b[0m \u001b[0mnf\u001b[0m     \u001b[1;33m=\u001b[0m \u001b[1;36m264\u001b[0m\u001b[1;33m\u001b[0m\u001b[1;33m\u001b[0m\u001b[0m\n\u001b[0;32m      6\u001b[0m \u001b[0mng\u001b[0m     \u001b[1;33m=\u001b[0m \u001b[1;36m25\u001b[0m\u001b[1;33m\u001b[0m\u001b[1;33m\u001b[0m\u001b[0m\n\u001b[1;32m----> 7\u001b[1;33m \u001b[0mPfuel\u001b[0m  \u001b[1;33m=\u001b[0m \u001b[0mpi\u001b[0m\u001b[1;33m*\u001b[0m\u001b[0mDfuel\u001b[0m\u001b[1;33m\u001b[0m\u001b[1;33m\u001b[0m\u001b[0m\n\u001b[0m\u001b[0;32m      8\u001b[0m \u001b[0mPguide\u001b[0m \u001b[1;33m=\u001b[0m \u001b[0mpi\u001b[0m\u001b[1;33m*\u001b[0m\u001b[0mDguide\u001b[0m\u001b[1;33m\u001b[0m\u001b[1;33m\u001b[0m\u001b[0m\n\u001b[0;32m      9\u001b[0m \u001b[0mAfuel\u001b[0m  \u001b[1;33m=\u001b[0m \u001b[0mpitch\u001b[0m\u001b[1;33m**\u001b[0m\u001b[1;36m2\u001b[0m \u001b[1;33m-\u001b[0m \u001b[0mpi\u001b[0m\u001b[1;33m/\u001b[0m\u001b[1;36m4\u001b[0m\u001b[1;33m*\u001b[0m\u001b[1;33m(\u001b[0m\u001b[0mDfuel\u001b[0m\u001b[1;33m**\u001b[0m\u001b[1;36m2\u001b[0m\u001b[1;33m)\u001b[0m\u001b[1;33m\u001b[0m\u001b[1;33m\u001b[0m\u001b[0m\n",
      "\u001b[1;31mNameError\u001b[0m: name 'pi' is not defined"
     ]
    }
   ],
   "source": [
    "# calc assembly geom\n",
    "Dfuel  = 0.950/100\n",
    "Dguide = 1.224/100\n",
    "pitch  = 1.26/100\n",
    "nf     = 264\n",
    "ng     = 25\n",
    "Pfuel  = pi*Dfuel \n",
    "Pguide = pi*Dguide\n",
    "Afuel  = pitch**2 - pi/4*(Dfuel**2) \n",
    "Aguide = pitch**2 - pi/4*(Dguide**2)\n",
    "Af     = nf*Afuel + ng*Aguide\n",
    "Pw     = nf*Pfuel + ng*Pguide\n",
    "hyD    = 4*Af/Pw"
   ]
  },
  {
   "cell_type": "code",
   "execution_count": null,
   "id": "20b6f937",
   "metadata": {},
   "outputs": [],
   "source": [
    "# specify power and gemetry at all locations within the core\n",
    "hyD = np.array(31*[hyD])\n",
    "Af  = np.array(31*[Af])\n",
    "dz = np.array(3*[21]+12*[20]+3*[21])/100"
   ]
  },
  {
   "cell_type": "code",
   "execution_count": null,
   "id": "bd2499b0",
   "metadata": {
    "scrolled": true
   },
   "outputs": [],
   "source": [
    "# initialize core \n",
    "core = npaths.MultiChannel(power,dz,hyD,Af)"
   ]
  },
  {
   "cell_type": "code",
   "execution_count": null,
   "id": "c273b833",
   "metadata": {},
   "outputs": [],
   "source": [
    "# solve with sepcific inputs\n",
    "mDot = 2325\n",
    "pIn  = 15.6e+06\n",
    "tIn  = 289.1+273.15\n",
    "core.solve(mDot,pIn,tIn)"
   ]
  }
 ],
 "metadata": {
  "kernelspec": {
   "display_name": "Python 3 (ipykernel)",
   "language": "python",
   "name": "python3"
  },
  "language_info": {
   "codemirror_mode": {
    "name": "ipython",
    "version": 3
   },
   "file_extension": ".py",
   "mimetype": "text/x-python",
   "name": "python",
   "nbconvert_exporter": "python",
   "pygments_lexer": "ipython3",
   "version": "3.9.7"
  }
 },
 "nbformat": 4,
 "nbformat_minor": 5
}
