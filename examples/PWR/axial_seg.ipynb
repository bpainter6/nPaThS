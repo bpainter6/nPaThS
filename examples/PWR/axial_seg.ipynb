{
 "cells": [
  {
   "cell_type": "markdown",
   "id": "ac4d970f",
   "metadata": {},
   "source": [
    "# Axial segmentation study"
   ]
  },
  {
   "cell_type": "code",
   "execution_count": 1,
   "id": "6453fb51",
   "metadata": {},
   "outputs": [],
   "source": [
    "import npaths\n",
    "import pickle\n",
    "import numpy as np"
   ]
  },
  {
   "cell_type": "code",
   "execution_count": 2,
   "id": "8f9d1beb",
   "metadata": {},
   "outputs": [],
   "source": [
    "# flow data\n",
    "with open('core.pkl', 'rb') as f:\n",
    "    core = pickle.load(f)"
   ]
  },
  {
   "cell_type": "code",
   "execution_count": 3,
   "id": "d18a17b6",
   "metadata": {},
   "outputs": [],
   "source": [
    "fuD = 0.819/100     # fuel pellet diameter\n",
    "clD = 0.950/100     # clad diameter and fule rod outer diameter"
   ]
  },
  {
   "cell_type": "code",
   "execution_count": null,
   "id": "2994ddbb",
   "metadata": {
    "scrolled": true
   },
   "outputs": [],
   "source": [
    "tempMax = np.zeros(20)\n",
    "for ndx in range(20):\n",
    "    fuelRod = npaths.Rod(\"fuel\",list(range(31)),['Zircaloy','UO2'],[clD,fuD],[3,ndx+1])\n",
    "    core.solveTemps(fuelRod)\n",
    "    tempMax[ndx] = core.get('fuel',(1,6,3+ndx),['tIn'],'float')"
   ]
  },
  {
   "cell_type": "code",
   "execution_count": null,
   "id": "977b8d13",
   "metadata": {},
   "outputs": [],
   "source": [
    "err = abs(tempMax-tempMax[-1])/tempMax[-1]*100"
   ]
  },
  {
   "cell_type": "code",
   "execution_count": null,
   "id": "1c30dd6f",
   "metadata": {},
   "outputs": [],
   "source": [
    "import matplotlib.pyplot as plt\n",
    "plt.plot(np.array(list(range(20))), err, marker = '*', fillstyle='none',markeredgewidth=1.5)\n",
    "plt.xlabel('number of radial layers')\n",
    "plt.ylabel('% deviation')\n",
    "plt.grid()\n",
    "plt.savefig(\"./figures/rad_study\")"
   ]
  },
  {
   "cell_type": "code",
   "execution_count": null,
   "id": "6ab09f27",
   "metadata": {},
   "outputs": [],
   "source": []
  }
 ],
 "metadata": {
  "kernelspec": {
   "display_name": "Python 3 (ipykernel)",
   "language": "python",
   "name": "python3"
  },
  "language_info": {
   "codemirror_mode": {
    "name": "ipython",
    "version": 3
   },
   "file_extension": ".py",
   "mimetype": "text/x-python",
   "name": "python",
   "nbconvert_exporter": "python",
   "pygments_lexer": "ipython3",
   "version": "3.9.7"
  }
 },
 "nbformat": 4,
 "nbformat_minor": 5
}
